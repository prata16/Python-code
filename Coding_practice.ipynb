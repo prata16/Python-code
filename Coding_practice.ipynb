{
 "cells": [
  {
   "cell_type": "code",
   "execution_count": 1,
   "metadata": {},
   "outputs": [],
   "source": [
    "def reverse(str):\n",
    "    return str[::-1] "
   ]
  },
  {
   "cell_type": "code",
   "execution_count": 3,
   "metadata": {},
   "outputs": [],
   "source": [
    "def reverse1(str):\n",
    "    l = [let for let in str ]\n",
    "    l.reverse()\n",
    "    return ''.join(l)"
   ]
  },
  {
   "cell_type": "code",
   "execution_count": 5,
   "metadata": {},
   "outputs": [],
   "source": [
    "def reverse2(str):\n",
    "    reversed = ''\n",
    "    for l in str:\n",
    "        reversed = l + reversed\n",
    "    return reversed"
   ]
  },
  {
   "cell_type": "code",
   "execution_count": 2,
   "metadata": {},
   "outputs": [
    {
     "data": {
      "text/plain": [
       "'elppa'"
      ]
     },
     "execution_count": 2,
     "metadata": {},
     "output_type": "execute_result"
    }
   ],
   "source": [
    "reverse(\"apple\")"
   ]
  },
  {
   "cell_type": "code",
   "execution_count": 4,
   "metadata": {},
   "outputs": [
    {
     "data": {
      "text/plain": [
       "'olleh'"
      ]
     },
     "execution_count": 4,
     "metadata": {},
     "output_type": "execute_result"
    }
   ],
   "source": [
    "reverse1('hello')"
   ]
  },
  {
   "cell_type": "code",
   "execution_count": 6,
   "metadata": {},
   "outputs": [
    {
     "data": {
      "text/plain": [
       "'j h patarp'"
      ]
     },
     "execution_count": 6,
     "metadata": {},
     "output_type": "execute_result"
    }
   ],
   "source": [
    "reverse2(\"pratap h j\")"
   ]
  },
  {
   "cell_type": "code",
   "execution_count": 7,
   "metadata": {},
   "outputs": [],
   "source": [
    "def palindrome(str):\n",
    "    if str == str[::-1]:\n",
    "        return True\n",
    "    else:\n",
    "        return False"
   ]
  },
  {
   "cell_type": "code",
   "execution_count": 8,
   "metadata": {},
   "outputs": [
    {
     "data": {
      "text/plain": [
       "True"
      ]
     },
     "execution_count": 8,
     "metadata": {},
     "output_type": "execute_result"
    }
   ],
   "source": [
    "palindrome('abba')"
   ]
  },
  {
   "cell_type": "code",
   "execution_count": 9,
   "metadata": {},
   "outputs": [
    {
     "data": {
      "text/plain": [
       "True"
      ]
     },
     "execution_count": 9,
     "metadata": {},
     "output_type": "execute_result"
    }
   ],
   "source": [
    "palindrome('malayalam')"
   ]
  },
  {
   "cell_type": "code",
   "execution_count": 10,
   "metadata": {},
   "outputs": [
    {
     "data": {
      "text/plain": [
       "False"
      ]
     },
     "execution_count": 10,
     "metadata": {},
     "output_type": "execute_result"
    }
   ],
   "source": [
    "palindrome('Bengaluru')"
   ]
  },
  {
   "cell_type": "code",
   "execution_count": 11,
   "metadata": {},
   "outputs": [],
   "source": [
    "def reverseInt(n):\n",
    "    #num = str(n)\n",
    "    return int(`n`[::-1])"
   ]
  },
  {
   "cell_type": "code",
   "execution_count": 12,
   "metadata": {},
   "outputs": [
    {
     "data": {
      "text/plain": [
       "843"
      ]
     },
     "execution_count": 12,
     "metadata": {},
     "output_type": "execute_result"
    }
   ],
   "source": [
    "reverseInt(348)"
   ]
  },
  {
   "cell_type": "code",
   "execution_count": 13,
   "metadata": {},
   "outputs": [],
   "source": [
    "def reverseInt1(n):\n",
    "    num = str(n)\n",
    "    if not num.startswith('-'):\n",
    "        return int(num[::-1])\n",
    "    else:\n",
    "        s =num[1:]\n",
    "        return int('-'+ s[::-1])"
   ]
  },
  {
   "cell_type": "code",
   "execution_count": 14,
   "metadata": {},
   "outputs": [
    {
     "data": {
      "text/plain": [
       "-5"
      ]
     },
     "execution_count": 14,
     "metadata": {},
     "output_type": "execute_result"
    }
   ],
   "source": [
    "reverseInt1(-500)"
   ]
  },
  {
   "cell_type": "code",
   "execution_count": 15,
   "metadata": {},
   "outputs": [
    {
     "data": {
      "text/plain": [
       "465"
      ]
     },
     "execution_count": 15,
     "metadata": {},
     "output_type": "execute_result"
    }
   ],
   "source": [
    "reverseInt1(564)"
   ]
  },
  {
   "cell_type": "code",
   "execution_count": 16,
   "metadata": {},
   "outputs": [],
   "source": [
    "def maxchar(str):\n",
    "    d ={}\n",
    "    max = 0\n",
    "    maxChar = ''\n",
    "    for let in str:\n",
    "        if let in d:\n",
    "            d[let] += 1\n",
    "        else:\n",
    "            d[let] = 1\n",
    "    for k,v in d.iteritems():\n",
    "        if  v > max:\n",
    "            max = v\n",
    "            maxChar = k\n",
    "    return maxChar"
   ]
  },
  {
   "cell_type": "code",
   "execution_count": 20,
   "metadata": {
    "scrolled": false
   },
   "outputs": [
    {
     "data": {
      "text/plain": [
       "'e'"
      ]
     },
     "execution_count": 20,
     "metadata": {},
     "output_type": "execute_result"
    }
   ],
   "source": [
    "maxchar(\"hello there!\")"
   ]
  },
  {
   "cell_type": "code",
   "execution_count": 22,
   "metadata": {},
   "outputs": [
    {
     "name": "stdout",
     "output_type": "stream",
     "text": [
      "{'!': 1, ' ': 1, 'e': 3, 'h': 2, 'l': 2, 'o': 1, 'r': 1, 't': 1}\n"
     ]
    }
   ],
   "source": [
    "str = \"hello there!\"\n",
    "d = {}\n",
    "for i in str:\n",
    "    d[i] = d.get(i, 0) + 1\n",
    "print d"
   ]
  },
  {
   "cell_type": "code",
   "execution_count": 23,
   "metadata": {},
   "outputs": [],
   "source": [
    "from collections import Counter\n",
    "def maxchar1(str):\n",
    "    d =Counter(str)\n",
    "    max = 0\n",
    "    maxChar = ''\n",
    "    for k,v in d.iteritems():\n",
    "        if  v > max:\n",
    "            max = v\n",
    "            maxChar = k\n",
    "    return maxChar"
   ]
  },
  {
   "cell_type": "code",
   "execution_count": 24,
   "metadata": {},
   "outputs": [
    {
     "data": {
      "text/plain": [
       "'5'"
      ]
     },
     "execution_count": 24,
     "metadata": {},
     "output_type": "execute_result"
    }
   ],
   "source": [
    "maxchar1(\"advfsf 11123 hello addvgafdf 56565585\")"
   ]
  },
  {
   "cell_type": "code",
   "execution_count": 25,
   "metadata": {},
   "outputs": [],
   "source": [
    "def fizzBuzz(n):\n",
    "    for num in xrange(1,n):\n",
    "        if num % 3 == 0 and num % 5 == 0:\n",
    "            print \"fizzbuzz\"\n",
    "        elif num % 5 == 0:\n",
    "            print \"buzz\"\n",
    "        elif num % 3 == 0:\n",
    "            print \"fizz\"\n",
    "        else:\n",
    "            print num      "
   ]
  },
  {
   "cell_type": "code",
   "execution_count": 26,
   "metadata": {},
   "outputs": [
    {
     "name": "stdout",
     "output_type": "stream",
     "text": [
      "1\n",
      "2\n",
      "fizz\n",
      "4\n",
      "buzz\n",
      "fizz\n",
      "7\n",
      "8\n",
      "fizz\n",
      "buzz\n",
      "11\n",
      "fizz\n",
      "13\n",
      "14\n",
      "fizzbuzz\n",
      "16\n",
      "17\n",
      "fizz\n",
      "19\n",
      "buzz\n"
     ]
    }
   ],
   "source": [
    "fizzBuzz(21)"
   ]
  },
  {
   "cell_type": "code",
   "execution_count": 27,
   "metadata": {},
   "outputs": [],
   "source": [
    "def chunk(list,size):\n",
    "    n = len(list)\n",
    "    chunked = []\n",
    "    i = 0\n",
    "    while i<n:\n",
    "        chunked.append(list[i:i+size])\n",
    "        i = i + size\n",
    "        \n",
    "    #for i in xrange(0,n,size):\n",
    "    #   chunked.append( list[i:i+size] )\n",
    "\n",
    "    return chunked"
   ]
  },
  {
   "cell_type": "code",
   "execution_count": 28,
   "metadata": {
    "scrolled": true
   },
   "outputs": [
    {
     "data": {
      "text/plain": [
       "[[0, 1, 2], [3, 4, 5], [6, 7, 8], [9, 10]]"
      ]
     },
     "execution_count": 28,
     "metadata": {},
     "output_type": "execute_result"
    }
   ],
   "source": [
    "chunk(range(11),3)"
   ]
  },
  {
   "cell_type": "code",
   "execution_count": 29,
   "metadata": {},
   "outputs": [],
   "source": [
    "import re\n",
    "def anagrams(s1,s2):\n",
    "    d1 = charmap(s1)\n",
    "    d2 = charmap(s2)\n",
    "    \n",
    "    if len(d1) != len(d2):\n",
    "        return False\n",
    "    \n",
    "    for k1,v1 in d1.iteritems():\n",
    "        for k2,v2 in d2.iteritems():\n",
    "            if k1 != k2 and v1 != v2:\n",
    "                return False\n",
    "    return True\n",
    "\n",
    "def charmap(str):\n",
    "    word = re.sub('[^a-zA-Z0-9]', '', str)\n",
    "    d = {}\n",
    "    for char in word.lower():\n",
    "        if char in d:\n",
    "            d[char] = +1\n",
    "        else:\n",
    "            d[char] = 1\n",
    "    return d"
   ]
  },
  {
   "cell_type": "code",
   "execution_count": 30,
   "metadata": {},
   "outputs": [
    {
     "data": {
      "text/plain": [
       "True"
      ]
     },
     "execution_count": 30,
     "metadata": {},
     "output_type": "execute_result"
    }
   ],
   "source": [
    "anagrams('rail saftey!','fairy tales')"
   ]
  },
  {
   "cell_type": "code",
   "execution_count": 31,
   "metadata": {},
   "outputs": [
    {
     "data": {
      "text/plain": [
       "True"
      ]
     },
     "execution_count": 31,
     "metadata": {},
     "output_type": "execute_result"
    }
   ],
   "source": [
    "anagrams('Rail saftey!','fairy tales')"
   ]
  },
  {
   "cell_type": "code",
   "execution_count": 32,
   "metadata": {},
   "outputs": [
    {
     "data": {
      "text/plain": [
       "False"
      ]
     },
     "execution_count": 32,
     "metadata": {},
     "output_type": "execute_result"
    }
   ],
   "source": [
    "anagrams('Hi there!','bye there!')"
   ]
  },
  {
   "cell_type": "code",
   "execution_count": 33,
   "metadata": {},
   "outputs": [],
   "source": [
    "def anagrams1(s1,s2):\n",
    "    return cleanstring(s1) == cleanstring(s2)\n",
    "\n",
    "def cleanstring(str):\n",
    "    word = re.sub('[^a-zA-Z0-9]', '', str)\n",
    "    l = [x for x in word.lower()]\n",
    "    l.sort()\n",
    "    print l\n",
    "    return  ''.join(l)"
   ]
  },
  {
   "cell_type": "code",
   "execution_count": 34,
   "metadata": {},
   "outputs": [],
   "source": [
    "def capitalize(str):\n",
    "    l= str.split()\n",
    "    capitalized = []\n",
    "    i = 0\n",
    "    while i<len(l):\n",
    "        capitalized.append(l[i].capitalize())\n",
    "        i +=1\n",
    "    return ' '.join(capitalized)"
   ]
  },
  {
   "cell_type": "code",
   "execution_count": 35,
   "metadata": {},
   "outputs": [
    {
     "data": {
      "text/plain": [
       "'A Lazy Fox'"
      ]
     },
     "execution_count": 35,
     "metadata": {},
     "output_type": "execute_result"
    }
   ],
   "source": [
    "capitalize('a lazy fox')"
   ]
  },
  {
   "cell_type": "code",
   "execution_count": 36,
   "metadata": {},
   "outputs": [
    {
     "data": {
      "text/plain": [
       "'Look, It Is Working!'"
      ]
     },
     "execution_count": 36,
     "metadata": {},
     "output_type": "execute_result"
    }
   ],
   "source": [
    "capitalize('look, it is working!')"
   ]
  },
  {
   "cell_type": "code",
   "execution_count": 37,
   "metadata": {},
   "outputs": [
    {
     "data": {
      "text/plain": [
       "'A Short Sentence'"
      ]
     },
     "execution_count": 37,
     "metadata": {},
     "output_type": "execute_result"
    }
   ],
   "source": [
    "capitalize('a short sentence')"
   ]
  },
  {
   "cell_type": "code",
   "execution_count": 38,
   "metadata": {},
   "outputs": [],
   "source": [
    "def capitalize1(str):\n",
    "    words = []\n",
    "    for word in str.split():\n",
    "        words.append(word[0].upper() + word[1:])    \n",
    "    return ' '.join(words)\n",
    "    "
   ]
  },
  {
   "cell_type": "code",
   "execution_count": 40,
   "metadata": {},
   "outputs": [
    {
     "data": {
      "text/plain": [
       "'Mysuru Is The Number One Cleanest City In India!'"
      ]
     },
     "execution_count": 40,
     "metadata": {},
     "output_type": "execute_result"
    }
   ],
   "source": [
    "capitalize1('mysuru is the number one cleanest city in india!')"
   ]
  },
  {
   "cell_type": "code",
   "execution_count": 41,
   "metadata": {},
   "outputs": [],
   "source": [
    "def steps(n):\n",
    "    str = ''\n",
    "    i = 1\n",
    "    while i<=n:\n",
    "        str = str + '#'\n",
    "        print str\n",
    "        i += 1 "
   ]
  },
  {
   "cell_type": "code",
   "execution_count": 43,
   "metadata": {
    "scrolled": false
   },
   "outputs": [
    {
     "name": "stdout",
     "output_type": "stream",
     "text": [
      "#\n",
      "##\n",
      "###\n",
      "####\n"
     ]
    }
   ],
   "source": [
    "steps(4)"
   ]
  },
  {
   "cell_type": "code",
   "execution_count": 87,
   "metadata": {},
   "outputs": [],
   "source": [
    "def steps1(n):\n",
    "    row = 0\n",
    "    while row < n:\n",
    "        str = ''\n",
    "        column = 0\n",
    "        while column < n:\n",
    "            if column <= row:\n",
    "                str = str +'#'\n",
    "            else:\n",
    "                str = str + ' '\n",
    "            column += 1 \n",
    "        print str\n",
    "        row += 1 \n",
    "\n",
    "def steps(n):\n",
    "    for row in xrange(n):\n",
    "        str = ''\n",
    "        for column in xrange(n):\n",
    "            if column <= row:\n",
    "                str += '#'\n",
    "            else:\n",
    "                str += ''\n",
    "        print str"
   ]
  },
  {
   "cell_type": "code",
   "execution_count": 88,
   "metadata": {},
   "outputs": [
    {
     "name": "stdout",
     "output_type": "stream",
     "text": [
      "#\n",
      "##\n",
      "###\n",
      "####\n",
      "#####\n"
     ]
    }
   ],
   "source": [
    "steps(5)"
   ]
  },
  {
   "cell_type": "code",
   "execution_count": 46,
   "metadata": {},
   "outputs": [
    {
     "name": "stdout",
     "output_type": "stream",
     "text": [
      "#\n",
      "##\n",
      "###\n",
      "####\n"
     ]
    }
   ],
   "source": [
    "steps(4)"
   ]
  },
  {
   "cell_type": "code",
   "execution_count": 47,
   "metadata": {},
   "outputs": [],
   "source": [
    "def factorial(n):\n",
    "    if n == 0:\n",
    "        return 1\n",
    "    else:\n",
    "        return n * factorial(n-1)"
   ]
  },
  {
   "cell_type": "code",
   "execution_count": 48,
   "metadata": {},
   "outputs": [
    {
     "data": {
      "text/plain": [
       "24"
      ]
     },
     "execution_count": 48,
     "metadata": {},
     "output_type": "execute_result"
    }
   ],
   "source": [
    "factorial(4)"
   ]
  },
  {
   "cell_type": "code",
   "execution_count": 89,
   "metadata": {},
   "outputs": [],
   "source": [
    "def pyramids(n):\n",
    "    midpoint = ((n + (n-1))/2) #2 * n -1\n",
    "    row = 0\n",
    "    while row < n:\n",
    "        level = ''\n",
    "        column = 0\n",
    "        \n",
    "        while column < (n + (n-1)):\n",
    "            if midpoint - row <= column and midpoint + row >= column:\n",
    "                level = level + '#'\n",
    "            else:\n",
    "                level = level + ' '\n",
    "            column += 1\n",
    "            \n",
    "        print level\n",
    "        row += 1\n",
    "\n",
    "def pyramid(n):\n",
    "    midpoint = ((n + (n-1))/2)\n",
    "    for row in xrange(n):\n",
    "        level = \"\"\n",
    "        for column in xrange((n +(n-1))):  # for ex n = 3 then row =3 column = 3 + 2 (n +(n-1)) \n",
    "            if midpoint - row <= column and midpoint + row >= column:\n",
    "                level = level + '#'\n",
    "            else:\n",
    "                level = level + ' '\n",
    "        print level\n",
    "            "
   ]
  },
  {
   "cell_type": "code",
   "execution_count": 90,
   "metadata": {
    "scrolled": true
   },
   "outputs": [
    {
     "name": "stdout",
     "output_type": "stream",
     "text": [
      " # \n",
      "###\n"
     ]
    }
   ],
   "source": [
    "pyramid(2)"
   ]
  },
  {
   "cell_type": "code",
   "execution_count": 92,
   "metadata": {},
   "outputs": [
    {
     "name": "stdout",
     "output_type": "stream",
     "text": [
      "  #  \n",
      " ### \n",
      "#####\n"
     ]
    }
   ],
   "source": [
    "pyramid(3)"
   ]
  },
  {
   "cell_type": "code",
   "execution_count": 93,
   "metadata": {},
   "outputs": [
    {
     "name": "stdout",
     "output_type": "stream",
     "text": [
      "   #   \n",
      "  ###  \n",
      " ##### \n",
      "#######\n"
     ]
    }
   ],
   "source": [
    "pyramids(4)"
   ]
  },
  {
   "cell_type": "code",
   "execution_count": 53,
   "metadata": {},
   "outputs": [],
   "source": [
    "def vowels(str):\n",
    "    count = 0\n",
    "    for let in str.lower():\n",
    "        #if let == 'a' or let == 'e' or let == 'i' or let =='o' or let =='u':\n",
    "        if let in ('a','e','i','o','u'):\n",
    "            count += 1\n",
    "    return count"
   ]
  },
  {
   "cell_type": "code",
   "execution_count": 54,
   "metadata": {},
   "outputs": [
    {
     "data": {
      "text/plain": [
       "3"
      ]
     },
     "execution_count": 54,
     "metadata": {},
     "output_type": "execute_result"
    }
   ],
   "source": [
    "vowels('Hi there!')"
   ]
  },
  {
   "cell_type": "code",
   "execution_count": 55,
   "metadata": {},
   "outputs": [
    {
     "data": {
      "text/plain": [
       "4"
      ]
     },
     "execution_count": 55,
     "metadata": {},
     "output_type": "execute_result"
    }
   ],
   "source": [
    "vowels('Why do you ask?')"
   ]
  },
  {
   "cell_type": "code",
   "execution_count": 56,
   "metadata": {},
   "outputs": [
    {
     "data": {
      "text/plain": [
       "0"
      ]
     },
     "execution_count": 56,
     "metadata": {},
     "output_type": "execute_result"
    }
   ],
   "source": [
    "vowels('Why')"
   ]
  },
  {
   "cell_type": "code",
   "execution_count": 143,
   "metadata": {},
   "outputs": [],
   "source": [
    "def spirals(n):\n",
    "    results = []\n",
    "    i=0\n",
    "    while i < n:\n",
    "        results.append([])\n",
    "        i +=1\n",
    "    print results\n",
    "    counter = 1\n",
    "    start_col = 0\n",
    "    end_col = n-1\n",
    "    start_row = 0\n",
    "    end_row = n-1\n",
    "    \n",
    "    while start_col <= end_col and start_row <= end_row:\n",
    "        # top row\n",
    "        while start_col <= end_col:\n",
    "            print start_col, start_row \n",
    "            results[start_row][start_col] = counter\n",
    "            print \"enter to while loop\"\n",
    "            counter += 1\n",
    "            start_col += 1\n",
    "        start_row += 1\n",
    "        \n",
    "        #last column\n",
    "        while start_row <= end_row:\n",
    "            results[start_row][end_col] = counter\n",
    "            counter += 1\n",
    "            start_row += 1\n",
    "        end_col -= 1\n",
    "        \n",
    "        #Bottom row\n",
    "        while end_col >= start_col:\n",
    "            results[end_row][end_col] = counter\n",
    "            counter +=1\n",
    "            end_col -= 1\n",
    "        end_row -= 1\n",
    "        \n",
    "        #first column\n",
    "        while end_row >= start_row:\n",
    "            results[end_row][start_col] = counter\n",
    "            counter += 1\n",
    "            end_row -= 1\n",
    "        start_col += 1\n",
    "    \n",
    "    return results"
   ]
  },
  {
   "cell_type": "code",
   "execution_count": 3,
   "metadata": {},
   "outputs": [],
   "source": [
    "def spirals(n):\n",
    "    output= []\n",
    "    for l in range(0, n):\n",
    "        output.append([0] * n)\n",
    "    print output\n",
    "    counter = 1\n",
    "    startcol = 0\n",
    "    endcol = n-1\n",
    "    startrow = 0\n",
    "    endrow = n-1\n",
    "    \n",
    "    while startrow <= endrow and startcol <= endcol:\n",
    "        #top\n",
    "        while startcol <= endcol:\n",
    "            output[startrow][startcol] += counter\n",
    "            counter += 1\n",
    "            startcol += 1\n",
    "        startrow += 1\n",
    "        # right\n",
    "        while startrow <= endrow:\n",
    "            output[startrow][endcol] += counter\n",
    "            counter += 1\n",
    "            startrow += 1\n",
    "        endcol -= 1\n",
    "        \n",
    "        #bottom\n",
    "        while endcol >= startcol:\n",
    "            output[endrow][endcol] += counter\n",
    "            counter += 1\n",
    "            endrow -= 1\n",
    "        endrow -= 1\n",
    "    \n",
    "        #left\n",
    "        while endrow >= startrow:\n",
    "            output[endrow][startcol] += counter\n",
    "            counter += 1\n",
    "            end_row -= 1\n",
    "        startcol += 1\n",
    "        \n",
    "    return output    "
   ]
  },
  {
   "cell_type": "code",
   "execution_count": 61,
   "metadata": {},
   "outputs": [],
   "source": [
    "def flip_direction(direction):\n",
    "    return direction * -1\n",
    "\n",
    "def spiral(n):  \n",
    "    output = [[0]*n for i in range(n)]\n",
    "  # direction flags\n",
    "    row_direction = +1\n",
    "    column_direction = +1\n",
    "  # row or column flag\n",
    "    is_row = True\n",
    "  # row/column index\n",
    "    row = 0\n",
    "    col = 0\n",
    "  # row/column min max\n",
    "    row_min = 0\n",
    "    col_min = 0\n",
    "    row_max = n-1\n",
    "    col_max = n-1\n",
    "    for i in range(0,n*n):\n",
    "        if is_row:\n",
    "            output[row][col] = i+1\n",
    "            print('is_row: {} row: {} col: {} col_min: {} col_max: {} output: {}'.format(is_row,row,col,col_min,col_max,output))\n",
    "        if column_direction > 0:\n",
    "            col += 1\n",
    "        else:\n",
    "            col -= 1\n",
    "        if not (col_min <= col <= col_max):\n",
    "            if column_direction > 0:\n",
    "                col = col_max\n",
    "                row = row + 1\n",
    "                col_max = col_max - 1\n",
    "            else:\n",
    "                col = col_min\n",
    "                row = row - 1\n",
    "                col_min = col_min + 1\n",
    "            column_direction = flip_direction(column_direction )\n",
    "            is_row = False\n",
    "            count+=1\n",
    "        else:\n",
    "            output[row][col] = i+1\n",
    "            print('is_row: {} row: {} col: {} row_min: {} row_max: {} output: {}'.format(is_row,row,col,row_min,row_max,output))\n",
    "            if row_direction > 0:\n",
    "                row += 1\n",
    "            else:\n",
    "                row -= 1\n",
    "            if not (row_min <= row <= row_max):\n",
    "                if row_direction > 0:\n",
    "                    row = row_max\n",
    "                    col = col - 1\n",
    "                    row_min = row_min + 1\n",
    "                else:\n",
    "                    row = row_min\n",
    "                    col = col + 1\n",
    "                    row_max = row_max - 1\n",
    "                row_direction = flip_direction(row_direction)\n",
    "                is_row = True\n",
    "        count+=1\n",
    "    return output"
   ]
  },
  {
   "cell_type": "code",
   "execution_count": 47,
   "metadata": {},
   "outputs": [],
   "source": [
    "def fib(n):\n",
    "    fib = []\n",
    "    a, b = 0, 1\n",
    "    while a < n:\n",
    "        fib.append(a)\n",
    "        a, b = b, a+b\n",
    "    return fib"
   ]
  },
  {
   "cell_type": "code",
   "execution_count": 48,
   "metadata": {
    "scrolled": false
   },
   "outputs": [
    {
     "data": {
      "text/plain": [
       "[0, 1, 1, 2, 3, 5, 8, 13, 21, 34, 55, 89]"
      ]
     },
     "execution_count": 48,
     "metadata": {},
     "output_type": "execute_result"
    }
   ],
   "source": [
    "fib(100)"
   ]
  },
  {
   "cell_type": "code",
   "execution_count": 149,
   "metadata": {},
   "outputs": [],
   "source": [
    "def fact(n):\n",
    "    if n == 1:\n",
    "        return 1\n",
    "    else:\n",
    "        return n * fact(n-1)\n",
    "    \n",
    "def fact1(n):\n",
    "    result = 1\n",
    "    for num in range(1,n+1):\n",
    "        result = num * result\n",
    "    return result"
   ]
  },
  {
   "cell_type": "code",
   "execution_count": 152,
   "metadata": {},
   "outputs": [
    {
     "data": {
      "text/plain": [
       "120"
      ]
     },
     "execution_count": 152,
     "metadata": {},
     "output_type": "execute_result"
    }
   ],
   "source": [
    "fact(5)"
   ]
  },
  {
   "cell_type": "code",
   "execution_count": 45,
   "metadata": {},
   "outputs": [],
   "source": [
    "def fibb(n): \n",
    "    result =[0,1]\n",
    "    for num in xrange(2,n+1):\n",
    "        a = result[num - 1]\n",
    "        b = result[num - 2]\n",
    "        result.append(a+b)\n",
    "    print result\n",
    "    return result[n]"
   ]
  },
  {
   "cell_type": "code",
   "execution_count": 46,
   "metadata": {},
   "outputs": [
    {
     "name": "stdout",
     "output_type": "stream",
     "text": [
      "[0, 1, 1, 2, 3, 5, 8, 13, 21, 34, 55, 89, 144, 233, 377, 610, 987, 1597, 2584, 4181, 6765]\n"
     ]
    },
    {
     "data": {
      "text/plain": [
       "6765"
      ]
     },
     "execution_count": 46,
     "metadata": {},
     "output_type": "execute_result"
    }
   ],
   "source": [
    "fibb(20)"
   ]
  },
  {
   "cell_type": "code",
   "execution_count": 114,
   "metadata": {},
   "outputs": [],
   "source": [
    "def fibonacci(n):\n",
    "    if n<2:\n",
    "        return n\n",
    "    else:\n",
    "        return fibonacci(n-1) + fibonacci(n-2)"
   ]
  },
  {
   "cell_type": "code",
   "execution_count": 134,
   "metadata": {},
   "outputs": [
    {
     "data": {
      "text/plain": [
       "6765"
      ]
     },
     "execution_count": 134,
     "metadata": {},
     "output_type": "execute_result"
    }
   ],
   "source": [
    "fibonacci(20)"
   ]
  },
  {
   "cell_type": "code",
   "execution_count": 133,
   "metadata": {},
   "outputs": [
    {
     "data": {
      "text/plain": [
       "6765"
      ]
     },
     "execution_count": 133,
     "metadata": {},
     "output_type": "execute_result"
    }
   ],
   "source": [
    "def memoize(function):\n",
    "    from functools import wraps\n",
    "\n",
    "    cache = {}\n",
    "\n",
    "    @wraps(function)\n",
    "    def wrapper(*args):\n",
    "        if args in cache:\n",
    "            return cache[args]\n",
    "        else:\n",
    "            result = function(*args)\n",
    "            cache[args] = result\n",
    "            return result\n",
    "    return wrapper\n",
    "\n",
    "@memoize\n",
    "def slowFib(n):\n",
    "    if n<2:\n",
    "        return n\n",
    "    else:\n",
    "        return slowFib(n-1) + slowFib(n-2)\n",
    "\n",
    "slowFib(20)"
   ]
  },
  {
   "cell_type": "code",
   "execution_count": 147,
   "metadata": {},
   "outputs": [],
   "source": [
    "#Fibonacci series with memoization\n",
    "fibonacci_memory = {}\n",
    "\n",
    "def myFibonacci(n):\n",
    "    #if we have Cached the value return it.\n",
    "    if n in fibonacci_memory:\n",
    "        return fibonacci_memory[n]\n",
    "    \n",
    "    #compute the nth term.\n",
    "    if n == 0:\n",
    "        value = 0\n",
    "    elif n == 1:\n",
    "        value = 1\n",
    "    else:\n",
    "        value = myFibonacci(n-1) + myFibonacci(n-2)\n",
    "    \n",
    "    #cache the value and return it.\n",
    "    fibonacci_memory[n] = value\n",
    "    return value"
   ]
  },
  {
   "cell_type": "code",
   "execution_count": 148,
   "metadata": {},
   "outputs": [
    {
     "data": {
      "text/plain": [
       "6765"
      ]
     },
     "execution_count": 148,
     "metadata": {},
     "output_type": "execute_result"
    }
   ],
   "source": [
    "myFibonacci(20)"
   ]
  },
  {
   "cell_type": "markdown",
   "metadata": {},
   "source": [
    "### implementing a Queue"
   ]
  },
  {
   "cell_type": "code",
   "execution_count": 348,
   "metadata": {},
   "outputs": [],
   "source": [
    "class Queue(object):\n",
    "    def __init__(self):\n",
    "        self.items = []\n",
    "    \n",
    "    def isEmpty(self):\n",
    "        return self.items == []\n",
    "        \n",
    "    def adding(self,item):\n",
    "        return self.items.insert(0,item)\n",
    "        \n",
    "    def removing(self):\n",
    "        return self.items.pop()\n",
    "    \n",
    "    def size(self):\n",
    "        return len(self.items)\n",
    "\n",
    "q = Queue()"
   ]
  },
  {
   "cell_type": "code",
   "execution_count": 349,
   "metadata": {},
   "outputs": [
    {
     "data": {
      "text/plain": [
       "[]"
      ]
     },
     "execution_count": 349,
     "metadata": {},
     "output_type": "execute_result"
    }
   ],
   "source": [
    "q.items"
   ]
  },
  {
   "cell_type": "code",
   "execution_count": 350,
   "metadata": {},
   "outputs": [],
   "source": [
    "q.adding(1)\n",
    "q.adding(2)\n",
    "q.adding(3)\n",
    "q.adding(4)"
   ]
  },
  {
   "cell_type": "code",
   "execution_count": 351,
   "metadata": {},
   "outputs": [
    {
     "data": {
      "text/plain": [
       "[4, 3, 2, 1]"
      ]
     },
     "execution_count": 351,
     "metadata": {},
     "output_type": "execute_result"
    }
   ],
   "source": [
    "q.items"
   ]
  },
  {
   "cell_type": "code",
   "execution_count": 352,
   "metadata": {},
   "outputs": [
    {
     "data": {
      "text/plain": [
       "1"
      ]
     },
     "execution_count": 352,
     "metadata": {},
     "output_type": "execute_result"
    }
   ],
   "source": [
    "q.removing()"
   ]
  },
  {
   "cell_type": "code",
   "execution_count": 353,
   "metadata": {},
   "outputs": [
    {
     "data": {
      "text/plain": [
       "[4, 3, 2]"
      ]
     },
     "execution_count": 353,
     "metadata": {},
     "output_type": "execute_result"
    }
   ],
   "source": [
    "q.items"
   ]
  },
  {
   "cell_type": "code",
   "execution_count": 354,
   "metadata": {},
   "outputs": [
    {
     "data": {
      "text/plain": [
       "3"
      ]
     },
     "execution_count": 354,
     "metadata": {},
     "output_type": "execute_result"
    }
   ],
   "source": [
    "q.size()"
   ]
  },
  {
   "cell_type": "code",
   "execution_count": 355,
   "metadata": {},
   "outputs": [
    {
     "data": {
      "text/plain": [
       "False"
      ]
     },
     "execution_count": 355,
     "metadata": {},
     "output_type": "execute_result"
    }
   ],
   "source": [
    "q.isEmpty()"
   ]
  },
  {
   "cell_type": "code",
   "execution_count": 356,
   "metadata": {},
   "outputs": [
    {
     "name": "stdout",
     "output_type": "stream",
     "text": [
      "0\n",
      "1\n",
      "2\n",
      "3\n",
      "4\n"
     ]
    }
   ],
   "source": [
    "import Queue\n",
    "\n",
    "Q = Queue.Queue(maxsize=20)\n",
    "\n",
    "for i in range(5):\n",
    "    Q.put(i)\n",
    "    \n",
    "while not Q.empty():\n",
    "    print Q.get()  "
   ]
  },
  {
   "cell_type": "markdown",
   "metadata": {},
   "source": [
    "### weave using Queue class"
   ]
  },
  {
   "cell_type": "code",
   "execution_count": 7,
   "metadata": {},
   "outputs": [],
   "source": [
    "class Queue(object):\n",
    "    def __init__(self):\n",
    "        self.items = []\n",
    "        \n",
    "    def add(self,item):\n",
    "        self.items.insert(0,item)\n",
    "        \n",
    "    def remove(self):\n",
    "        return self.items.pop()\n",
    "    \n",
    "    def peek(self):\n",
    "        if len(self.items) > 0:\n",
    "            return self.items[len(self.items)-1]\n",
    "   \n",
    "    def length(self):\n",
    "        return len(self.items)\n",
    "\n",
    "q1 = Queue()\n",
    "q2 = Queue()"
   ]
  },
  {
   "cell_type": "code",
   "execution_count": 8,
   "metadata": {},
   "outputs": [],
   "source": [
    "q1.add(1)\n",
    "q1.add(2)\n",
    "q1.add(3)"
   ]
  },
  {
   "cell_type": "code",
   "execution_count": 9,
   "metadata": {},
   "outputs": [
    {
     "data": {
      "text/plain": [
       "[3, 2, 1]"
      ]
     },
     "execution_count": 9,
     "metadata": {},
     "output_type": "execute_result"
    }
   ],
   "source": [
    "q1.items"
   ]
  },
  {
   "cell_type": "code",
   "execution_count": 10,
   "metadata": {},
   "outputs": [
    {
     "data": {
      "text/plain": [
       "1"
      ]
     },
     "execution_count": 10,
     "metadata": {},
     "output_type": "execute_result"
    }
   ],
   "source": [
    "q1.peek()"
   ]
  },
  {
   "cell_type": "code",
   "execution_count": 11,
   "metadata": {},
   "outputs": [],
   "source": [
    "q2.add(\"Hi\")\n",
    "q2.add(\"there\")\n",
    "#q2.add(\"hello\")"
   ]
  },
  {
   "cell_type": "code",
   "execution_count": 12,
   "metadata": {
    "scrolled": true
   },
   "outputs": [
    {
     "data": {
      "text/plain": [
       "['there', 'Hi']"
      ]
     },
     "execution_count": 12,
     "metadata": {},
     "output_type": "execute_result"
    }
   ],
   "source": [
    "q2.items"
   ]
  },
  {
   "cell_type": "code",
   "execution_count": 13,
   "metadata": {},
   "outputs": [
    {
     "data": {
      "text/plain": [
       "'Hi'"
      ]
     },
     "execution_count": 13,
     "metadata": {},
     "output_type": "execute_result"
    }
   ],
   "source": [
    "q2.peek()"
   ]
  },
  {
   "cell_type": "code",
   "execution_count": 14,
   "metadata": {},
   "outputs": [],
   "source": [
    "def weave(queueOne,queueTwo):\n",
    "    q = Queue()\n",
    "    while queueOne.length() > 0 or queueTwo.length() > 0:\n",
    "        if queueOne.length() > 0:\n",
    "            q.add(queueOne.remove())\n",
    "        if queueTwo.length() > 0:\n",
    "            q.add(queueTwo.remove())\n",
    "    return q.items"
   ]
  },
  {
   "cell_type": "code",
   "execution_count": 15,
   "metadata": {},
   "outputs": [
    {
     "data": {
      "text/plain": [
       "[3, 'there', 2, 'Hi', 1]"
      ]
     },
     "execution_count": 15,
     "metadata": {},
     "output_type": "execute_result"
    }
   ],
   "source": [
    "weave(q1,q2)"
   ]
  },
  {
   "cell_type": "code",
   "execution_count": 16,
   "metadata": {},
   "outputs": [],
   "source": [
    "def weave(queueOne,queueTwo):\n",
    "    q = Queue()\n",
    "    while queueOne.peek() or queueTwo.peek():\n",
    "        if queueOne.peek():\n",
    "            q.add(queueOne.remove())\n",
    "        if queueTwo.peek():\n",
    "            q.add(queueTwo.remove())\n",
    "    return q.items"
   ]
  },
  {
   "cell_type": "markdown",
   "metadata": {},
   "source": [
    "### Stack Implementation"
   ]
  },
  {
   "cell_type": "code",
   "execution_count": 23,
   "metadata": {},
   "outputs": [],
   "source": [
    "class Stack(object):\n",
    "    def __init__(self):\n",
    "        self.items = []\n",
    "    \n",
    "    def push(self,item):\n",
    "        self.items.append(item) \n",
    "        \n",
    "    def pop(self):\n",
    "        return self.items.pop()\n",
    "    \n",
    "    def peek(self):\n",
    "        if len(self.items) > 0:\n",
    "            return self.items[len(self.items)-1]\n",
    "        \n",
    "s = Stack()"
   ]
  },
  {
   "cell_type": "code",
   "execution_count": 24,
   "metadata": {},
   "outputs": [],
   "source": [
    "s.push(1)\n",
    "s.push(2)\n",
    "s.push(3)"
   ]
  },
  {
   "cell_type": "code",
   "execution_count": 25,
   "metadata": {},
   "outputs": [
    {
     "data": {
      "text/plain": [
       "[1, 2, 3]"
      ]
     },
     "execution_count": 25,
     "metadata": {},
     "output_type": "execute_result"
    }
   ],
   "source": [
    "s.items"
   ]
  },
  {
   "cell_type": "code",
   "execution_count": 27,
   "metadata": {},
   "outputs": [
    {
     "data": {
      "text/plain": [
       "3"
      ]
     },
     "execution_count": 27,
     "metadata": {},
     "output_type": "execute_result"
    }
   ],
   "source": [
    "s.pop()"
   ]
  },
  {
   "cell_type": "code",
   "execution_count": 28,
   "metadata": {},
   "outputs": [
    {
     "data": {
      "text/plain": [
       "2"
      ]
     },
     "execution_count": 28,
     "metadata": {},
     "output_type": "execute_result"
    }
   ],
   "source": [
    "s.peek()"
   ]
  },
  {
   "cell_type": "code",
   "execution_count": 29,
   "metadata": {},
   "outputs": [
    {
     "data": {
      "text/plain": [
       "[1, 2]"
      ]
     },
     "execution_count": 29,
     "metadata": {},
     "output_type": "execute_result"
    }
   ],
   "source": [
    "s.items"
   ]
  },
  {
   "cell_type": "markdown",
   "metadata": {},
   "source": [
    "### Queue from Two Stacks"
   ]
  },
  {
   "cell_type": "code",
   "execution_count": 338,
   "metadata": {},
   "outputs": [],
   "source": [
    "class Stack(object):\n",
    "    def __init__(self):\n",
    "        self.items = []\n",
    "    \n",
    "    def push(self,item):\n",
    "        self.items.append(item)\n",
    "        \n",
    "    def pop(self):\n",
    "        return self.items.pop()\n",
    "    \n",
    "    def peek(self):\n",
    "        if len(self.items) > 0:\n",
    "            return self.items[len(self.items)-1]\n",
    "        \n",
    "s1 = Stack()\n",
    "s2 = Stack() "
   ]
  },
  {
   "cell_type": "code",
   "execution_count": 339,
   "metadata": {},
   "outputs": [],
   "source": [
    "class Queue(Stack):\n",
    "    def add(self,item):\n",
    "        s1.push(item)   \n",
    "    \n",
    "    def remove(self):\n",
    "        while s1.peek():\n",
    "            s2.push(s1.pop())\n",
    "        if s2.peek():\n",
    "            return s2.pop()\n",
    "    \n",
    "    def peek(self):\n",
    "        while s1.peek():\n",
    "            s2.push(s1.pop())\n",
    "        return s2.peek()"
   ]
  },
  {
   "cell_type": "code",
   "execution_count": 340,
   "metadata": {},
   "outputs": [],
   "source": [
    "q = Queue()"
   ]
  },
  {
   "cell_type": "code",
   "execution_count": 341,
   "metadata": {},
   "outputs": [],
   "source": [
    "q.add(1)\n",
    "q.add(2)\n",
    "q.add(3)"
   ]
  },
  {
   "cell_type": "code",
   "execution_count": 342,
   "metadata": {},
   "outputs": [
    {
     "data": {
      "text/plain": [
       "1"
      ]
     },
     "execution_count": 342,
     "metadata": {},
     "output_type": "execute_result"
    }
   ],
   "source": [
    "q.peek()"
   ]
  },
  {
   "cell_type": "code",
   "execution_count": 343,
   "metadata": {},
   "outputs": [
    {
     "data": {
      "text/plain": [
       "1"
      ]
     },
     "execution_count": 343,
     "metadata": {},
     "output_type": "execute_result"
    }
   ],
   "source": [
    "q.remove()"
   ]
  },
  {
   "cell_type": "code",
   "execution_count": 344,
   "metadata": {},
   "outputs": [
    {
     "data": {
      "text/plain": [
       "2"
      ]
     },
     "execution_count": 344,
     "metadata": {},
     "output_type": "execute_result"
    }
   ],
   "source": [
    "q.remove()"
   ]
  },
  {
   "cell_type": "markdown",
   "metadata": {},
   "source": [
    "### linked List"
   ]
  },
  {
   "cell_type": "code",
   "execution_count": 45,
   "metadata": {},
   "outputs": [],
   "source": [
    "class Node(object):\n",
    "    def __init__(self,value,next):\n",
    "        self.value = value\n",
    "        self.next = next\n",
    "\n",
    "class LinkedList(object):\n",
    "    def __init__(self,head = None):\n",
    "        self.head = head\n",
    "        self.len = 0\n",
    "    \n",
    "    def insert(self,value):\n",
    "        element = Node(value,None)\n",
    "        current = self.head\n",
    "        if self.head:\n",
    "            while current.next:\n",
    "                current = current.next\n",
    "            current.next = element\n",
    "            self.len += 1\n",
    "        else:\n",
    "            self.head = element\n",
    "            self.len = 1\n",
    "    \n",
    "    \"\"\"\n",
    "    def display(self):\n",
    "        curr = self.head\n",
    "        if self.len > 0:\n",
    "            while curr.next:\n",
    "                print(curr.value)\n",
    "                curr = curr.next\n",
    "            print(curr.value)\n",
    "    \"\"\"\n",
    "\n",
    "    def delete_by_index(self,index):\n",
    "        if not 0 <= index < self.len:\n",
    "            raise ValueError( \"ERROR: 'DELETE' index not in range\")\n",
    "        if not self.head:\n",
    "            print('List is empty')\n",
    "            return None\n",
    "        prev = None\n",
    "        curr = self.head\n",
    "        i = 0\n",
    "        while i < index:\n",
    "            prev = curr\n",
    "            curr = curr.next\n",
    "            i += 1\n",
    "        if index==0:  # special case when only one node present\n",
    "            self.head = curr.next\n",
    "            prev = curr\n",
    "        prev.next = curr.next\n",
    "        del_value = curr.value\n",
    "        self.del_node(curr)\n",
    "        self.len -= 1\n",
    "        return (index,del_value)\n",
    "    \n",
    "    def del_node(self,node):\n",
    "        del(node)\n",
    "           \n",
    "    def delete_by_value(self,val):\n",
    "        if not self.head:\n",
    "            print('List is empty')\n",
    "            return None\n",
    "        prev = None\n",
    "        curr = self.head\n",
    "        i =0\n",
    "        while i < self.len:\n",
    "            if val == curr.value:\n",
    "                if prev:\n",
    "                    prev.next = curr.next\n",
    "                else:\n",
    "                    self.head = curr.next\n",
    "                self.del_node(curr)\n",
    "                self.len -= 1\n",
    "                return (i,curr.value)\n",
    "            else:\n",
    "                prev = curr\n",
    "                curr = curr.next\n",
    "                i+=1\n",
    "                \n",
    "    def reverse(self):\n",
    "        prev = None\n",
    "        curr = self.head\n",
    "        while curr.next:\n",
    "            temp=curr.next\n",
    "            curr.next = prev\n",
    "            prev = curr\n",
    "            curr = temp\n",
    "        curr.next = prev\n",
    "        self.head = curr\n",
    "\n",
    "    def get_by_index(self,index):\n",
    "        if not 0 <= index <self.len:\n",
    "            return \"ERROR: 'GET' index not in range\"\n",
    "        curr = self.head\n",
    "        i = 0\n",
    "        while i < index:\n",
    "            curr = curr.next\n",
    "            i += 1\n",
    "        return curr.value\n",
    "\n",
    "    def index(self,value):\n",
    "        curr = self.head\n",
    "        i = 0\n",
    "        while curr.next:\n",
    "            if value == curr.value:\n",
    "                return i\n",
    "            curr = curr.next\n",
    "            i+=1\n",
    "        if value == curr.value:\n",
    "            return i\n",
    "        return -1\n",
    "    \n",
    "    def search_value(self,value):\n",
    "        if self.index(value):\n",
    "            return True\n",
    "        else:\n",
    "            return False\n",
    "    \n",
    "    def extend(self,list1):\n",
    "        if not type(list1) == LinkedList:\n",
    "            raise TypeError('invalid parameter value type')\n",
    "        curr = list1.head\n",
    "        while curr.next:\n",
    "            self.push(curr.value)\n",
    "            curr = curr.next\n",
    "        self.push(curr.value)\n",
    "    \n",
    "    def copy(self):\n",
    "        new_list = LinkedList()\n",
    "        new_list.extend(self)\n",
    "        return new_list\n",
    "\n",
    "    def __contains__(self,value):\n",
    "        return self.search_value(value)\n",
    "    \n",
    "    def push(self,value):\n",
    "        self.insert(value)\n",
    "    \n",
    "    def pop(self):\n",
    "        return self.delete_by_index(self.len-1)\n",
    "\n",
    "    def __len__(self):\n",
    "        return self.len\n",
    "    \n",
    "    def __getitem__(self,index_val):\n",
    "        return self.get_by_index(index_val)\n",
    "    \n",
    "    def __iter__(self):\n",
    "        curr = self.head\n",
    "        while curr.next:\n",
    "            yield curr.value\n",
    "            curr = curr.next\n",
    "        yield curr.value\n",
    "\n",
    "    def __add__(self,list1):\n",
    "        if not type(list1) == LinkedList:\n",
    "            raise TypeError('invalid parameter value type')\n",
    "        new_list = LinkedList()\n",
    "        curr = self.head\n",
    "        while curr.next:\n",
    "            new_list.push(curr.value)\n",
    "            curr = curr.next\n",
    "        new_list.push(curr.value)\n",
    "        curr = list1.head\n",
    "        while curr.next:\n",
    "            new_list.push(curr.value)\n",
    "            curr = curr.next\n",
    "        new_list.push(curr.value)\n",
    "        return new_list\n",
    "\n",
    "    def __mul__(self,val):\n",
    "        temp = self.copy()\n",
    "        for i in range(val):\n",
    "            temp = temp + self\n",
    "        return temp\n",
    "    \n",
    "    def __str__(self):\n",
    "        s = ''\n",
    "        curr = self.head\n",
    "        while curr.next:\n",
    "            s = s + str(curr.value) + ','\n",
    "            curr = curr.next\n",
    "        s = s + str(curr.value)\n",
    "        return '[' + s + ']'\n",
    "    \n",
    "    def __repr__(self):\n",
    "        return self.__str__()\n",
    "    \n",
    "    def sort(self):\n",
    "        if self.len > 1:\n",
    "            newlist = []\n",
    "            curr = self.head\n",
    "            while curr.next:\n",
    "                newlist.append(curr.value)\n",
    "                curr = curr.next\n",
    "            newlist.append(curr.value)\n",
    "            newlist = sorted(newlist)\n",
    "            newll = LinkedList()\n",
    "            for val in newlist:\n",
    "                newll.push(val)\n",
    "            return newll\n",
    "        return self"
   ]
  },
  {
   "cell_type": "code",
   "execution_count": 50,
   "metadata": {},
   "outputs": [],
   "source": [
    "l1 = LinkedList()"
   ]
  },
  {
   "cell_type": "code",
   "execution_count": 51,
   "metadata": {},
   "outputs": [],
   "source": [
    "l1.push(4)\n",
    "l1.push(2)\n",
    "l1.push(1)\n",
    "l1.push(5)"
   ]
  },
  {
   "cell_type": "code",
   "execution_count": 52,
   "metadata": {},
   "outputs": [
    {
     "data": {
      "text/plain": [
       "[4,2,1,5]"
      ]
     },
     "execution_count": 52,
     "metadata": {},
     "output_type": "execute_result"
    }
   ],
   "source": [
    "l1"
   ]
  },
  {
   "cell_type": "code",
   "execution_count": 81,
   "metadata": {},
   "outputs": [
    {
     "data": {
      "text/plain": [
       "[1,2,4,5]"
      ]
     },
     "execution_count": 81,
     "metadata": {},
     "output_type": "execute_result"
    }
   ],
   "source": [
    "l1.sort()"
   ]
  },
  {
   "cell_type": "markdown",
   "metadata": {},
   "source": [
    "### Tree"
   ]
  },
  {
   "cell_type": "code",
   "execution_count": 132,
   "metadata": {},
   "outputs": [],
   "source": [
    "class Node(object):\n",
    "    def __init__(self,data):\n",
    "        self.data = data\n",
    "        self.children = []\n",
    "        \n",
    "    def add(self,data):\n",
    "        new_node = Node(data)\n",
    "        self.children.append(new_node)\n",
    "    \n",
    "    def remove(self,data):\n",
    "            for c in self.children:\n",
    "                if c.data == data:\n",
    "                    self.children.remove(c)\n",
    "    \n",
    "    def display(self):\n",
    "        for c in self.children:\n",
    "            print c.data\n",
    "        if len(self.children) == 0:\n",
    "            print \"No values to display\""
   ]
  },
  {
   "cell_type": "code",
   "execution_count": 133,
   "metadata": {},
   "outputs": [],
   "source": [
    "n = Node(1)"
   ]
  },
  {
   "cell_type": "code",
   "execution_count": 134,
   "metadata": {},
   "outputs": [],
   "source": [
    "n.add(123)\n",
    "n.add(456)\n",
    "n.add(789)"
   ]
  },
  {
   "cell_type": "code",
   "execution_count": 135,
   "metadata": {},
   "outputs": [
    {
     "data": {
      "text/plain": [
       "3"
      ]
     },
     "execution_count": 135,
     "metadata": {},
     "output_type": "execute_result"
    }
   ],
   "source": [
    "len(n.children)"
   ]
  },
  {
   "cell_type": "code",
   "execution_count": 136,
   "metadata": {},
   "outputs": [
    {
     "name": "stdout",
     "output_type": "stream",
     "text": [
      "123\n",
      "456\n",
      "789\n"
     ]
    }
   ],
   "source": [
    "n.display()"
   ]
  },
  {
   "cell_type": "code",
   "execution_count": 137,
   "metadata": {},
   "outputs": [],
   "source": [
    "n.remove(789)"
   ]
  },
  {
   "cell_type": "code",
   "execution_count": 138,
   "metadata": {},
   "outputs": [
    {
     "name": "stdout",
     "output_type": "stream",
     "text": [
      "123\n",
      "456\n"
     ]
    }
   ],
   "source": [
    "n.display()"
   ]
  },
  {
   "cell_type": "code",
   "execution_count": 90,
   "metadata": {},
   "outputs": [],
   "source": [
    "class Node(object):\n",
    "    def __init__(self,data):\n",
    "        self.data = data\n",
    "        self.children = []\n",
    "        \n",
    "    def add_child(self,node):\n",
    "        self.children.append(node)\n",
    "\n",
    "    def get_children(self):\n",
    "        return self.children\n",
    "    \n",
    "    def __repr__(self):\n",
    "        return \"%s\" % self.data\n",
    "    \n",
    "    def get_rev_children(self):\n",
    "        children = self.children[:]\n",
    "        children.reverse()\n",
    "        return children\n",
    "    \n",
    "class Tree(object):\n",
    "    def __init__(self):\n",
    "        self.root = None\n",
    "        \n",
    "    def get_breadth_first_nodes(self,root):\n",
    "        nodes = []\n",
    "        stack = [root]\n",
    "        while stack:\n",
    "            cur_node = stack[0]\n",
    "            stack = stack[1:]\n",
    "            nodes.append(cur_node)\n",
    "            for child in cur_node.get_children():\n",
    "                stack.append(child)\n",
    "        return nodes\n",
    "    \n",
    "    def get_depth_first_nodes(self,root):\n",
    "        nodes = []\n",
    "        stack = [root]\n",
    "        while stack:\n",
    "            cur_node = stack[0]\n",
    "            stack = stack[1:]\n",
    "            nodes.append(cur_node)        \n",
    "            for child in cur_node.get_rev_children():\n",
    "                stack.insert(0, child)\n",
    "        return nodes\n",
    "    \n",
    "    def level_width(self,root):\n",
    "        nodes = []\n",
    "        counter= [0] \n",
    "        stack = [root]\n",
    "        stack.append('s')\n",
    "        while stack or len(stack) >= 2:\n",
    "            cur_node = stack[0]\n",
    "            stack = stack[1:]\n",
    "            nodes.append(cur_node)\n",
    "            if cur_node == 's':\n",
    "                stack.append(cur_node)\n",
    "                counter.append(0)\n",
    "                if not len(stack) > 1:\n",
    "                    break\n",
    "            else:\n",
    "                counter[len(counter)-1] += 1\n",
    "                for child in cur_node.get_children():\n",
    "                    stack.append(child)\n",
    "        return counter\n",
    "    \n",
    "    def simple_levelwidth(self,root):\n",
    "        children =[root]\n",
    "        output = [1]\n",
    "        while children:\n",
    "            nodes = []\n",
    "            for child in children:\n",
    "                nodes.extend(child.get_children())\n",
    "            if len(nodes) > 0:\n",
    "                output.append(len(nodes))\n",
    "            children = nodes\n",
    "        return output"
   ]
  },
  {
   "cell_type": "code",
   "execution_count": 91,
   "metadata": {},
   "outputs": [],
   "source": [
    "a0 = Node(2)\n",
    "b1 = Node(5)\n",
    "b2 = Node(8)\n",
    "b3 = Node(11)\n",
    "c1 = Node(21)\n",
    "c2 = Node(-2)\n",
    "c3 = Node(7)\n",
    "c4 = Node(-5)"
   ]
  },
  {
   "cell_type": "code",
   "execution_count": 92,
   "metadata": {},
   "outputs": [],
   "source": [
    "a0.add_child(b1)\n",
    "a0.add_child(b2)\n",
    "a0.add_child(b3)\n",
    "\n",
    "b1.add_child(c1)\n",
    "b1.add_child(c2)\n",
    "b1.add_child(c3)\n",
    "\n",
    "b3.add_child(c4)"
   ]
  },
  {
   "cell_type": "code",
   "execution_count": 93,
   "metadata": {},
   "outputs": [
    {
     "data": {
      "text/plain": [
       "[5, 8, 11]"
      ]
     },
     "execution_count": 93,
     "metadata": {},
     "output_type": "execute_result"
    }
   ],
   "source": [
    "a0.get_children()"
   ]
  },
  {
   "cell_type": "code",
   "execution_count": 94,
   "metadata": {},
   "outputs": [
    {
     "data": {
      "text/plain": [
       "[11, 8, 5]"
      ]
     },
     "execution_count": 94,
     "metadata": {},
     "output_type": "execute_result"
    }
   ],
   "source": [
    "a0.get_rev_children()"
   ]
  },
  {
   "cell_type": "code",
   "execution_count": 95,
   "metadata": {},
   "outputs": [],
   "source": [
    "t = Tree()"
   ]
  },
  {
   "cell_type": "code",
   "execution_count": 96,
   "metadata": {},
   "outputs": [
    {
     "data": {
      "text/plain": [
       "[2, 5, 8, 11, 21, -2, 7, -5]"
      ]
     },
     "execution_count": 96,
     "metadata": {},
     "output_type": "execute_result"
    }
   ],
   "source": [
    "t.get_breadth_first_nodes(a0)"
   ]
  },
  {
   "cell_type": "code",
   "execution_count": 97,
   "metadata": {},
   "outputs": [
    {
     "data": {
      "text/plain": [
       "[2, 5, 21, -2, 7, 8, 11, -5]"
      ]
     },
     "execution_count": 97,
     "metadata": {},
     "output_type": "execute_result"
    }
   ],
   "source": [
    "t.get_depth_first_nodes(a0)"
   ]
  },
  {
   "cell_type": "code",
   "execution_count": 98,
   "metadata": {
    "scrolled": true
   },
   "outputs": [
    {
     "data": {
      "text/plain": [
       "[1, 3, 4, 0]"
      ]
     },
     "execution_count": 98,
     "metadata": {},
     "output_type": "execute_result"
    }
   ],
   "source": [
    "t.level_width(a0)"
   ]
  },
  {
   "cell_type": "code",
   "execution_count": 100,
   "metadata": {},
   "outputs": [
    {
     "data": {
      "text/plain": [
       "[1, 3, 4]"
      ]
     },
     "execution_count": 100,
     "metadata": {},
     "output_type": "execute_result"
    }
   ],
   "source": [
    "t.simple_levelwidth(a0)"
   ]
  },
  {
   "cell_type": "markdown",
   "metadata": {},
   "source": [
    "### Binary Search Tree"
   ]
  },
  {
   "cell_type": "code",
   "execution_count": 109,
   "metadata": {},
   "outputs": [],
   "source": [
    "class Node(object):\n",
    "    def __init__(self,data):\n",
    "        self.data = data\n",
    "        self.left = None\n",
    "        self.right = None\n",
    "        \n",
    "    def insert(self,data):\n",
    "        if data < self.data and self.left:\n",
    "            self.left.insert(data)\n",
    "        elif data < self.data :\n",
    "            self.left = Node(data)\n",
    "        elif data > self.data and self.right:\n",
    "            self.right.insert(data)\n",
    "        else:\n",
    "            self.right = Node(data)\n",
    "            \n",
    "    def get_values(self):\n",
    "        return self.data, self.left, self.right\n",
    "    \n",
    "    def __repr__(self):\n",
    "        return \"[{a} {b} {c}]\".format(a =self.data ,b=self.left , c=self.right)\n",
    "    \n",
    "    def contains(self,data):\n",
    "        if self.data == data:\n",
    "            return 'Binary Tree contains data:{}'.format(self.data)\n",
    "        \n",
    "        if self.data < data and self.right:\n",
    "            return self.right.contains(data)\n",
    "        elif self.data > data and self.left:\n",
    "            return self.left.contains(data)\n",
    "        return None\n",
    "    \n",
    "    def validate(self, node, min= None, max = None):\n",
    "        if max != None and node.data > max:\n",
    "            return False\n",
    "        if min!= None and node.data < min:\n",
    "            return False\n",
    "        if node.left and not(node.left.validate(node.left, min, node.data)):\n",
    "            return False\n",
    "        if node.right and not(node.right.validate(node.right,node.data, max)):\n",
    "            return False\n",
    "        return True\n",
    "    "
   ]
  },
  {
   "cell_type": "code",
   "execution_count": 110,
   "metadata": {},
   "outputs": [],
   "source": [
    "b = Node(10)"
   ]
  },
  {
   "cell_type": "code",
   "execution_count": 111,
   "metadata": {},
   "outputs": [],
   "source": [
    "b.insert(0)\n",
    "b.insert(12)\n",
    "b.insert(-1)\n",
    "b.insert(4)\n",
    "b.insert(11)\n",
    "b.insert(20)\n",
    "b.insert(17)\n",
    "b.insert(99)\n",
    "b.insert(-20)\n",
    "b.insert(120)"
   ]
  },
  {
   "cell_type": "code",
   "execution_count": 112,
   "metadata": {},
   "outputs": [
    {
     "data": {
      "text/plain": [
       "(10,\n",
       " [0 [-1 [-20 None None] None] [4 None None]],\n",
       " [12 [11 None None] [20 [17 None None] [99 None [120 None None]]]])"
      ]
     },
     "execution_count": 112,
     "metadata": {},
     "output_type": "execute_result"
    }
   ],
   "source": [
    "b.get_values()"
   ]
  },
  {
   "cell_type": "code",
   "execution_count": 113,
   "metadata": {},
   "outputs": [
    {
     "data": {
      "text/plain": [
       "'Binary Tree contains data:120'"
      ]
     },
     "execution_count": 113,
     "metadata": {},
     "output_type": "execute_result"
    }
   ],
   "source": [
    "b.contains(120)"
   ]
  },
  {
   "cell_type": "code",
   "execution_count": 114,
   "metadata": {},
   "outputs": [
    {
     "data": {
      "text/plain": [
       "True"
      ]
     },
     "execution_count": 114,
     "metadata": {},
     "output_type": "execute_result"
    }
   ],
   "source": [
    "b.validate(b)"
   ]
  },
  {
   "cell_type": "markdown",
   "metadata": {},
   "source": [
    "### Bubble Sort"
   ]
  },
  {
   "cell_type": "code",
   "execution_count": 285,
   "metadata": {},
   "outputs": [],
   "source": [
    "def bubbleSort(arr):\n",
    "    for i in xrange( 0, len(arr)):\n",
    "        for j in xrange( 0, (len(arr)- i -1)):\n",
    "            if arr[j] > arr[j+1]:\n",
    "                lesser = arr[j+1]\n",
    "                arr[j+1] = arr[j]\n",
    "                arr[j] = lesser\n",
    "    return arr"
   ]
  },
  {
   "cell_type": "code",
   "execution_count": 286,
   "metadata": {},
   "outputs": [
    {
     "data": {
      "text/plain": [
       "[-1, 0, 1, 3, 67, 152, 456]"
      ]
     },
     "execution_count": 286,
     "metadata": {},
     "output_type": "execute_result"
    }
   ],
   "source": [
    "bubbleSort([152,456,3,67,1,0,-1])"
   ]
  },
  {
   "cell_type": "markdown",
   "metadata": {},
   "source": [
    "### Selection Sort"
   ]
  },
  {
   "cell_type": "code",
   "execution_count": 287,
   "metadata": {},
   "outputs": [],
   "source": [
    "def selectionSort(arr):\n",
    "    for i in xrange(0,len(arr)):\n",
    "        indexMin = i\n",
    "        for j in xrange(i+1,len(arr)):\n",
    "            if arr[j] < arr[indexMin]:\n",
    "                indexMin = j\n",
    "        if indexMin != i:\n",
    "            lesser = arr[indexMin] #temp variable\n",
    "            arr[indexMin] = arr[i]\n",
    "            arr[i] = lesser\n",
    "    return arr                "
   ]
  },
  {
   "cell_type": "code",
   "execution_count": 288,
   "metadata": {
    "scrolled": true
   },
   "outputs": [
    {
     "data": {
      "text/plain": [
       "[-30, 0, 5, 10, 97]"
      ]
     },
     "execution_count": 288,
     "metadata": {},
     "output_type": "execute_result"
    }
   ],
   "source": [
    "selectionSort([10,97,0,-30,5])"
   ]
  },
  {
   "cell_type": "markdown",
   "metadata": {},
   "source": [
    "### Merge Sort"
   ]
  },
  {
   "cell_type": "code",
   "execution_count": 89,
   "metadata": {},
   "outputs": [],
   "source": [
    "def mergesort(arr):\n",
    "    if len(arr) == 1:\n",
    "        return arr\n",
    "    center = math.floor(len(arr)/2)\n",
    "    left = arr[0:int(center)]\n",
    "    right = arr[int(center):]\n",
    "    \n",
    "    return merger(mergesort(left),mergesort(right))\n",
    "\n",
    "def merger(left,right):\n",
    "    results = []\n",
    "    \n",
    "    while left and right:\n",
    "        if left[0] < right[0]:\n",
    "            results.append(left.pop(0))\n",
    "        else:\n",
    "            results.append(right.pop(0))\n",
    "\n",
    "    return results + left + right\n",
    "            "
   ]
  },
  {
   "cell_type": "code",
   "execution_count": 91,
   "metadata": {},
   "outputs": [
    {
     "data": {
      "text/plain": [
       "[-30, 0, 22, 97]"
      ]
     },
     "execution_count": 91,
     "metadata": {},
     "output_type": "execute_result"
    }
   ],
   "source": [
    "mergesort([97,0,22,-30])"
   ]
  },
  {
   "cell_type": "code",
   "execution_count": 92,
   "metadata": {},
   "outputs": [
    {
     "data": {
      "text/plain": [
       "[-43, -30, -3, 0, 5, 22, 96, 98, 999]"
      ]
     },
     "execution_count": 92,
     "metadata": {},
     "output_type": "execute_result"
    }
   ],
   "source": [
    "mergesort([98,-43,-3,999,0,5,22,96,-30])"
   ]
  },
  {
   "cell_type": "code",
   "execution_count": null,
   "metadata": {},
   "outputs": [],
   "source": []
  }
 ],
 "metadata": {
  "kernelspec": {
   "display_name": "Python 2",
   "language": "python",
   "name": "python2"
  },
  "language_info": {
   "codemirror_mode": {
    "name": "ipython",
    "version": 2
   },
   "file_extension": ".py",
   "mimetype": "text/x-python",
   "name": "python",
   "nbconvert_exporter": "python",
   "pygments_lexer": "ipython2",
   "version": "2.7.14"
  }
 },
 "nbformat": 4,
 "nbformat_minor": 2
}
